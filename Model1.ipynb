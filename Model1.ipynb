{
  "nbformat": 4,
  "nbformat_minor": 0,
  "metadata": {
    "colab": {
      "name": "Model1.ipynb",
      "provenance": [],
      "collapsed_sections": []
    },
    "kernelspec": {
      "name": "python3",
      "display_name": "Python 3"
    },
    "language_info": {
      "name": "python"
    },
    "accelerator": "GPU"
  },
  "cells": [
    {
      "cell_type": "markdown",
      "metadata": {
        "id": "PFILHkF9Ls1u"
      },
      "source": [
        "## **Model 1**"
      ]
    },
    {
      "cell_type": "code",
      "metadata": {
        "id": "vqHrK7KuLn2h"
      },
      "source": [
        "from keras.models import Sequential\n",
        "from keras.layers import Conv2D\n",
        "from keras.layers import MaxPooling2D\n",
        "from keras.layers import Flatten\n",
        "from keras.layers import Dense\n",
        "from tensorflow.keras.optimizers import Adam"
      ],
      "execution_count": 19,
      "outputs": []
    },
    {
      "cell_type": "code",
      "metadata": {
        "colab": {
          "base_uri": "https://localhost:8080/"
        },
        "id": "xeJDkZQyB-jr",
        "outputId": "7b7508fe-2db1-4b93-b93d-d336a3442c76"
      },
      "source": [
        "model_1 = Sequential([\n",
        "    Conv2D(512, (3,3), activation='relu', input_shape=(30, 30, 3)),\n",
        "    MaxPooling2D(2, 2),\n",
        "    Flatten(),\n",
        "    Dense(256, activation='relu'),\n",
        "    Dense(521, activation='relu'),\n",
        "    Dense(1, activation='sigmoid')\n",
        "\n",
        "])\n",
        "\n",
        "model_1.summary()"
      ],
      "execution_count": 20,
      "outputs": [
        {
          "output_type": "stream",
          "name": "stdout",
          "text": [
            "Model: \"sequential\"\n",
            "_________________________________________________________________\n",
            "Layer (type)                 Output Shape              Param #   \n",
            "=================================================================\n",
            "conv2d (Conv2D)              (None, 28, 28, 512)       14336     \n",
            "_________________________________________________________________\n",
            "max_pooling2d (MaxPooling2D) (None, 14, 14, 512)       0         \n",
            "_________________________________________________________________\n",
            "flatten (Flatten)            (None, 100352)            0         \n",
            "_________________________________________________________________\n",
            "dense (Dense)                (None, 256)               25690368  \n",
            "_________________________________________________________________\n",
            "dense_1 (Dense)              (None, 521)               133897    \n",
            "_________________________________________________________________\n",
            "dense_2 (Dense)              (None, 1)                 522       \n",
            "=================================================================\n",
            "Total params: 25,839,123\n",
            "Trainable params: 25,839,123\n",
            "Non-trainable params: 0\n",
            "_________________________________________________________________\n"
          ]
        }
      ]
    },
    {
      "cell_type": "code",
      "metadata": {
        "colab": {
          "base_uri": "https://localhost:8080/"
        },
        "id": "cgnDm1sgDH1W",
        "outputId": "98bec054-2f63-4591-eb2b-1f6a6e71bf56"
      },
      "source": [
        "model_1.compile(loss='binary_crossentropy',\n",
        "              optimizer=Adam(lr=0.001),\n",
        "              metrics=['accuracy'])"
      ],
      "execution_count": 21,
      "outputs": [
        {
          "output_type": "stream",
          "name": "stderr",
          "text": [
            "/usr/local/lib/python3.7/dist-packages/keras/optimizer_v2/optimizer_v2.py:356: UserWarning: The `lr` argument is deprecated, use `learning_rate` instead.\n",
            "  \"The `lr` argument is deprecated, use `learning_rate` instead.\")\n"
          ]
        }
      ]
    },
    {
      "cell_type": "code",
      "metadata": {
        "colab": {
          "base_uri": "https://localhost:8080/"
        },
        "id": "aZlvmHR1Dlss",
        "outputId": "a265310a-9609-447d-f747-037e0d8d7bb4"
      },
      "source": [
        "model_1.fit(x_train, y_train, batch_size=32, epochs=10, validation_data=(x_test, y_test))"
      ],
      "execution_count": 92,
      "outputs": [
        {
          "output_type": "stream",
          "name": "stdout",
          "text": [
            "Epoch 1/10\n",
            "6939/6939 [==============================] - 184s 27ms/step - loss: 0.2834 - accuracy: 0.8806 - val_loss: 0.3537 - val_accuracy: 0.8576\n",
            "Epoch 2/10\n",
            "6939/6939 [==============================] - 183s 26ms/step - loss: 0.2798 - accuracy: 0.8823 - val_loss: 0.3609 - val_accuracy: 0.8529\n",
            "Epoch 3/10\n",
            "6939/6939 [==============================] - 183s 26ms/step - loss: 0.2760 - accuracy: 0.8838 - val_loss: 0.3637 - val_accuracy: 0.8572\n",
            "Epoch 4/10\n",
            "6939/6939 [==============================] - 184s 26ms/step - loss: 0.2712 - accuracy: 0.8863 - val_loss: 0.3812 - val_accuracy: 0.8560\n",
            "Epoch 5/10\n",
            "6939/6939 [==============================] - 185s 27ms/step - loss: 0.2676 - accuracy: 0.8875 - val_loss: 0.3702 - val_accuracy: 0.8513\n",
            "Epoch 6/10\n",
            "6939/6939 [==============================] - 185s 27ms/step - loss: 0.2642 - accuracy: 0.8891 - val_loss: 0.3723 - val_accuracy: 0.8550\n",
            "Epoch 7/10\n",
            "6939/6939 [==============================] - 187s 27ms/step - loss: 0.2597 - accuracy: 0.8915 - val_loss: 0.3634 - val_accuracy: 0.8542\n",
            "Epoch 8/10\n",
            "6939/6939 [==============================] - 185s 27ms/step - loss: 0.2587 - accuracy: 0.8918 - val_loss: 0.4089 - val_accuracy: 0.8536\n",
            "Epoch 9/10\n",
            "6939/6939 [==============================] - 184s 26ms/step - loss: 0.2516 - accuracy: 0.8948 - val_loss: 0.3920 - val_accuracy: 0.8519\n",
            "Epoch 10/10\n",
            "6939/6939 [==============================] - 183s 26ms/step - loss: 0.2481 - accuracy: 0.8963 - val_loss: 0.4168 - val_accuracy: 0.8504\n"
          ]
        },
        {
          "output_type": "execute_result",
          "data": {
            "text/plain": [
              "<keras.callbacks.History at 0x7fbae83a9550>"
            ]
          },
          "metadata": {},
          "execution_count": 92
        }
      ]
    },
    {
      "cell_type": "code",
      "metadata": {
        "id": "0qUTEDX-L_oP"
      },
      "source": [
        "model_1.save('/content/drive/MyDrive/Tubes_ML/Models/Model1.h5')"
      ],
      "execution_count": 96,
      "outputs": []
    }
  ]
}