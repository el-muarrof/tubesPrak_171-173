{
  "nbformat": 4,
  "nbformat_minor": 0,
  "metadata": {
    "colab": {
      "name": "Model2.ipynb",
      "provenance": [],
      "collapsed_sections": []
    },
    "kernelspec": {
      "display_name": "Python 3",
      "name": "python3"
    },
    "language_info": {
      "name": "python"
    },
    "accelerator": "GPU"
  },
  "cells": [
    {
      "cell_type": "markdown",
      "metadata": {
        "id": "gWuVOvDCToHF"
      },
      "source": [
        "# Model 2"
      ]
    },
    {
      "cell_type": "code",
      "metadata": {
        "id": "AJbYObgxV3tB"
      },
      "source": [
        "# Tulis Kode Anda Disini\n",
        "import tensorflow as tf"
      ],
      "execution_count": 22,
      "outputs": []
    },
    {
      "cell_type": "code",
      "metadata": {
        "id": "M6hKnClGV5WL",
        "colab": {
          "base_uri": "https://localhost:8080/"
        },
        "outputId": "c406e30f-c361-4073-9ab4-f976ba7faac5"
      },
      "source": [
        "model_2 = tf.keras.models.Sequential([\n",
        "    tf.keras.layers.Conv2D(32, (3,3), activation='relu', input_shape=(25, 25, 3)),\n",
        "    tf.keras.layers.AveragePooling2D(2, 2),\n",
        "    tf.keras.layers.GlobalMaxPooling2D(),\n",
        "    tf.keras.layers.Flatten(),\n",
        "    tf.keras.layers.Dense(32, activation='relu'),\n",
        "    tf.keras.layers.Dense(64, activation='relu'),\n",
        "    tf.keras.layers.Dense(128, activation='relu'),\n",
        "    tf.keras.layers.Dense(1, activation='sigmoid')\n",
        "])\n",
        "\n",
        "model_2.summary()\n"
      ],
      "execution_count": 23,
      "outputs": [
        {
          "output_type": "stream",
          "name": "stdout",
          "text": [
            "Model: \"sequential\"\n",
            "_________________________________________________________________\n",
            "Layer (type)                 Output Shape              Param #   \n",
            "=================================================================\n",
            "conv2d (Conv2D)              (None, 23, 23, 32)        896       \n",
            "_________________________________________________________________\n",
            "average_pooling2d (AveragePo (None, 11, 11, 32)        0         \n",
            "_________________________________________________________________\n",
            "global_max_pooling2d (Global (None, 32)                0         \n",
            "_________________________________________________________________\n",
            "flatten (Flatten)            (None, 32)                0         \n",
            "_________________________________________________________________\n",
            "dense (Dense)                (None, 32)                1056      \n",
            "_________________________________________________________________\n",
            "dense_1 (Dense)              (None, 64)                2112      \n",
            "_________________________________________________________________\n",
            "dense_2 (Dense)              (None, 128)               8320      \n",
            "_________________________________________________________________\n",
            "dense_3 (Dense)              (None, 1)                 129       \n",
            "=================================================================\n",
            "Total params: 12,513\n",
            "Trainable params: 12,513\n",
            "Non-trainable params: 0\n",
            "_________________________________________________________________\n"
          ]
        }
      ]
    },
    {
      "cell_type": "code",
      "metadata": {
        "id": "dS14xLj6WOX8",
        "colab": {
          "base_uri": "https://localhost:8080/"
        },
        "outputId": "7a075530-04b7-46a0-a63b-33c1b6c8ce46"
      },
      "source": [
        "# Compile model\n",
        "from tensorflow.keras.optimizers import Adam\n",
        "\n",
        "model_2.compile(optimizer=Adam(lr=0.001), \n",
        "              loss='binary_crossentropy', \n",
        "              metrics=['acc'])"
      ],
      "execution_count": 24,
      "outputs": [
        {
          "output_type": "stream",
          "name": "stderr",
          "text": [
            "/usr/local/lib/python3.7/dist-packages/keras/optimizer_v2/optimizer_v2.py:356: UserWarning: The `lr` argument is deprecated, use `learning_rate` instead.\n",
            "  \"The `lr` argument is deprecated, use `learning_rate` instead.\")\n"
          ]
        }
      ]
    },
    {
      "cell_type": "code",
      "metadata": {
        "id": "qSEOFBp5WUxg",
        "colab": {
          "base_uri": "https://localhost:8080/"
        },
        "outputId": "f10f67f3-e628-4dca-f095-37b0fb1d143d"
      },
      "source": [
        "model_2.fit(x_train, y_train, batch_size=20, epochs=10, validation_data=(x_test, y_test))"
      ],
      "execution_count": 25,
      "outputs": [
        {
          "output_type": "stream",
          "name": "stdout",
          "text": [
            "Epoch 1/10\n",
            "11101/11101 [==============================] - 97s 6ms/step - loss: 0.4060 - acc: 0.8196 - val_loss: 0.3819 - val_acc: 0.8276\n",
            "Epoch 2/10\n",
            "11101/11101 [==============================] - 63s 6ms/step - loss: 0.3725 - acc: 0.8370 - val_loss: 0.3641 - val_acc: 0.8392\n",
            "Epoch 3/10\n",
            "11101/11101 [==============================] - 67s 6ms/step - loss: 0.3651 - acc: 0.8413 - val_loss: 0.3574 - val_acc: 0.8455\n",
            "Epoch 4/10\n",
            "11101/11101 [==============================] - 62s 6ms/step - loss: 0.3596 - acc: 0.8436 - val_loss: 0.3530 - val_acc: 0.8458\n",
            "Epoch 5/10\n",
            "11101/11101 [==============================] - 67s 6ms/step - loss: 0.3565 - acc: 0.8455 - val_loss: 0.3533 - val_acc: 0.8463\n",
            "Epoch 6/10\n",
            "11101/11101 [==============================] - 66s 6ms/step - loss: 0.3533 - acc: 0.8467 - val_loss: 0.3422 - val_acc: 0.8536\n",
            "Epoch 7/10\n",
            "11101/11101 [==============================] - 63s 6ms/step - loss: 0.3515 - acc: 0.8474 - val_loss: 0.3698 - val_acc: 0.8365\n",
            "Epoch 8/10\n",
            "11101/11101 [==============================] - 63s 6ms/step - loss: 0.3497 - acc: 0.8479 - val_loss: 0.3427 - val_acc: 0.8538\n",
            "Epoch 9/10\n",
            "11101/11101 [==============================] - 68s 6ms/step - loss: 0.3479 - acc: 0.8495 - val_loss: 0.3461 - val_acc: 0.8476\n",
            "Epoch 10/10\n",
            "11101/11101 [==============================] - 63s 6ms/step - loss: 0.3462 - acc: 0.8492 - val_loss: 0.3549 - val_acc: 0.8404\n"
          ]
        },
        {
          "output_type": "execute_result",
          "data": {
            "text/plain": [
              "<keras.callbacks.History at 0x7f8360668ad0>"
            ]
          },
          "metadata": {},
          "execution_count": 25
        }
      ]
    },
    {
      "cell_type": "code",
      "metadata": {
        "id": "4vRCPJ3tZzxz"
      },
      "source": [
        "model_2.save('/content/drive/MyDrive/model/model_2.h5')"
      ],
      "execution_count": 27,
      "outputs": []
    }
  ]
}